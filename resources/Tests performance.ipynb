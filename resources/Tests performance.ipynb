{
 "cells": [
  {
   "cell_type": "markdown",
   "metadata": {},
   "source": [
    "## Génération de matrice aléatoires"
   ]
  },
  {
   "cell_type": "markdown",
   "metadata": {},
   "source": [
    "##### Comparaison des méthodes de génération de matrices triangulaires\n",
    "\n",
    "L'objectif de cette expérience est de comparer deux approches pour générer des matrices triangulaires supérieures avec une diagonale de ±1, qui peuvent être utilisées pour construire des matrices unimodulaires.\n",
    "\n",
    "- **Méthode 1** : Remplissage aléatoire complet de la matrice, suivi d'un ajustement pour imposer la structure triangulaire.\n",
    "- **Méthode 2** : Génération directe des coefficients nécessaires aux positions pertinentes.\n",
    "\n",
    "Bien que la Méthode 1 génère beaucoup plus de valeurs aléatoires, elle est paradoxalement plus rapide que la Méthode 2. Cela s'explique par l'efficacité des fonctions compilées utilisées pour générer des matrices aléatoires complètes, ce qui compense les ajustements supplémentaires. En revanche, la Méthode 2, bien qu'intuitive, nécessite des boucles interprétées en Python, ralentissant l'exécution.\n",
    "\n",
    "Les résultats expérimentaux illustrent ce phénomène, avec un temps moyen significativement plus faible pour la Méthode 1."
   ]
  },
  {
   "cell_type": "code",
   "execution_count": 1,
   "metadata": {},
   "outputs": [],
   "source": [
    "import time\n",
    "\n",
    "# Méthode 1 : Remplir la matrice aléatoirement puis ajuster les zéros et la diagonale\n",
    "def generate_triangular_method1(n, l):\n",
    "    U1 = MatrixSpace(ZZ, n, n).random_element(x=-(l*10), y=(l*10) + 1, distribution='uniform')\n",
    "    U2 = MatrixSpace(ZZ, n, n).random_element(x=-(l*10), y=(l*10) + 1, distribution='uniform')\n",
    "    \n",
    "    for i in range(n):\n",
    "        U1[i, i], U2[i, i] = choice([-1, 1]), choice([-1, 1])\n",
    "        for j in range(i):\n",
    "            U1[i, j], U2[i, j] = 0, 0\n",
    "    return U1, U2\n",
    "\n",
    "# Méthode 2 : Générer directement des valeurs au bon endroit pour une matrice triangulaire\n",
    "def generate_triangular_method2(n, l):\n",
    "    U1 = MatrixSpace(ZZ, n, n)(0)\n",
    "    U2 = MatrixSpace(ZZ, n, n)(0)\n",
    "    \n",
    "    for i in range(n):\n",
    "        U1[i, i], U2[i, i] = choice([-1, 1]), choice([-1, 1])\n",
    "        for j in range(i + 1, n):\n",
    "            U1[j, i], U2[j, i] = randint(-(l*10), (l*10)), randint(-(l*10), (l*10))\n",
    "    return U1, U2\n",
    "\n",
    "def compare_triangular_generation(n, l, repetitions=100):\n",
    "    \n",
    "    start_time = time.time()\n",
    "    for _ in range(repetitions):\n",
    "        generate_triangular_method1(n, l)\n",
    "    time_method1 = (time.time() - start_time) / repetitions\n",
    "\n",
    "    start_time = time.time()\n",
    "    for _ in range(repetitions):\n",
    "        generate_triangular_method2(n, l)\n",
    "    time_method2 = (time.time() - start_time) / repetitions\n",
    "\n",
    "    print(f\"Temps moyen pour la Méthode 1 : {time_method1:.6f} secondes\")\n",
    "    print(f\"Temps moyen pour la Méthode 2 : {time_method2:.6f} secondes\")"
   ]
  },
  {
   "cell_type": "code",
   "execution_count": 2,
   "metadata": {},
   "outputs": [
    {
     "name": "stdout",
     "output_type": "stream",
     "text": [
      "Temps moyen pour la Méthode 1 : 0.025572 secondes\n",
      "Temps moyen pour la Méthode 2 : 0.176002 secondes\n"
     ]
    }
   ],
   "source": [
    "compare_triangular_generation(n=200, l=4, repetitions=100)"
   ]
  },
  {
   "cell_type": "markdown",
   "metadata": {},
   "source": [
    "## Génération de matrices unimodulaires\n",
    "\n",
    "Dans cette section, nous explorons plusieurs méthodes pour générer des matrices unimodulaires (matrices entières inversibles avec un déterminant de ±1).\n",
    "\n",
    "- **Méthode 1** : À partir de la matrice identité, on applique des opérations élémentaires pour préserver le déterminant.\n",
    "- **Méthode 2** : Similaire à la première, mais en utilisant les fonctions matricielles optimisées de SageMath.\n",
    "- **Méthode 3** : Produit de deux matrices triangulaires supérieures avec diagonale de ±1, suivi d'une transposition pour garantir l'unimodularité.\n",
    "\n",
    "Nous comparons également leurs performances pour comprendre les compromis entre aléa, efficacité, et structure."
   ]
  },
  {
   "cell_type": "code",
   "execution_count": 3,
   "metadata": {},
   "outputs": [],
   "source": [
    "import time\n",
    "\n",
    "# Méthode 1 : Génère une matrice unimodulaire en modifiant la matrice identité\n",
    "def generate_unimodular_matrix1(n, l = 4, U = None, nb_passages = 10):\n",
    "    \n",
    "    # Initialise à une matrice identité ou utilise une matrice donnée (vérifiée comme unimodulaire)\n",
    "    if U is None:\n",
    "        U = [[1 if i == j else 0 for j in range(n)] for i in range(n)]\n",
    "    else :\n",
    "        if not (U.is_invertible()):\n",
    "            raise ValueError(\"Erreur : la matrice générée n'est pas unimodulaire !\")\n",
    "        U = [[int(U[i, j]) for j in range(n)] for i in range(n)]\n",
    "    \n",
    "    # Applique des opérations élémentaires pour modifier la matrice tout en conservant le déterminant\n",
    "    for _ in range(n * nb_passages): \n",
    "        i, j = randint(0, n - 1), randint(0, n - 1)\n",
    "        \n",
    "        if i != j:\n",
    "            coef = randint(-(l*10), l*10 + 1)\n",
    "            for k in range(n):\n",
    "                U[j][k] += coef * U[i][k]\n",
    "        \n",
    "            if randint(0, 1):\n",
    "                U[i], U[j] = U[j], U[i]\n",
    "        \n",
    "        if randint(0, 1):\n",
    "            for k in range(n):\n",
    "                U[i][k] *= -1\n",
    "\n",
    "    U = Matrix(ZZ, U)\n",
    "\n",
    "    # Convertit en matrice Sage et vérifie l'unimodularité\n",
    "    if not (U.is_invertible()):\n",
    "        raise ValueError(\"Erreur : la matrice générée n'est pas unimodulaire !\")\n",
    "    return U\n",
    "\n",
    "# Méthode 2 : Utilise les fonctions matricielles de SageMath pour générer une matrice unimodulaire\n",
    "def generate_unimodular_matrix2(n, l = 4, U = None, nb_passages = 10):\n",
    "    \n",
    "    # Initialise à une matrice identité ou utilise une matrice donnée\n",
    "    if U is None:\n",
    "        U = identity_matrix(n)\n",
    "    else :\n",
    "        if not (U.is_invertible()):\n",
    "            raise ValueError(\"Erreur : la matrice générée n'est pas unimodulaire !\")\n",
    "    \n",
    "    # Applique des transformations élémentaires directement sur la matrice Sage\n",
    "    for _ in range(n * nb_passages):  \n",
    "        i, j = randint(0, n - 1), randint(0, n - 1)\n",
    "        if i != j:\n",
    "            coef = randint(-(l*10), l*10 + 1)\n",
    "            for k in range(n):\n",
    "                U[j,k] += coef * U[i,k]\n",
    "        \n",
    "            if randint(0, 1):\n",
    "                U.swap_rows(i, j)\n",
    "        \n",
    "        if randint(0, 1):\n",
    "            U[i] *= -1\n",
    "            \n",
    "    # Vérifie l'unimodularité de la matrice\n",
    "    if abs(U.determinant()) != 1:\n",
    "        raise ValueError(\"Erreur : la matrice générée n'est pas unimodulaire !\")\n",
    "    \n",
    "    return U\n",
    "\n",
    "# Méthode 3 : Produit de deux matrices triangulaires pour générer une matrice unimodulaire\n",
    "def generate_unimodular_matrix3(n, l = 4):\n",
    "    \n",
    "    U1 = MatrixSpace(ZZ, n,n).random_element(x = -(l*10), y = (l*10) + 1 , distribution = 'uniform')\n",
    "    U2 = MatrixSpace(ZZ, n,n).random_element(x = -(l*10), y = (l*10) + 1 , distribution = 'uniform')\n",
    "    \n",
    "    for i in range(n):\n",
    "        U1[i,i], U2[i,i] = choice([-1,1]),choice([-1,1])\n",
    "        for j in range(i):\n",
    "            U1[i,j], U2[i,j] = 0, 0\n",
    "    \n",
    "    # Génère deux matrices triangulaires supérieures aléatoires avec diagonale ±1\n",
    "    U = U1 * U2.transpose()\n",
    "    if not (U.is_invertible()):\n",
    "        raise ValueError(\"Erreur : la matrice générée n'est pas unimodulaire !\")\n",
    "    return U\n",
    "\n",
    "def test_keygen_performance(n, repetitions=10):\n",
    "    start_time = time.time()\n",
    "    for _ in range(repetitions):\n",
    "        generate_unimodular_matrix1(n)\n",
    "    time_1 = (time.time() - start_time) / repetitions\n",
    "\n",
    "    start_time = time.time()\n",
    "    for _ in range(repetitions):\n",
    "        generate_unimodular_matrix2(n)\n",
    "    time_2 = (time.time() - start_time) / repetitions\n",
    "    \n",
    "    start_time = time.time()\n",
    "    for _ in range(repetitions):\n",
    "        generate_unimodular_matrix3(n)\n",
    "    time_3 = (time.time() - start_time) / repetitions\n",
    "\n",
    "    print(f\"Temps moyen pour generate_unimodular_matrix1 : {time_1:.6f} secondes\")\n",
    "    print(f\"Temps moyen pour generate_unimodular_matrix2 : {time_2:.6f} secondes\")\n",
    "    print(f\"Temps moyen pour generate_unimodular_matrix3 : {time_3:.6f} secondes\")"
   ]
  },
  {
   "cell_type": "code",
   "execution_count": 4,
   "metadata": {},
   "outputs": [
    {
     "name": "stdout",
     "output_type": "stream",
     "text": [
      "Temps moyen pour generate_unimodular_matrix1 : 1.790295 secondes\n",
      "Temps moyen pour generate_unimodular_matrix2 : 1.906735 secondes\n",
      "Temps moyen pour generate_unimodular_matrix3 : 0.264814 secondes\n"
     ]
    }
   ],
   "source": [
    "test_keygen_performance(n=200, repetitions=20)"
   ]
  },
  {
   "cell_type": "markdown",
   "metadata": {},
   "source": [
    "#### Analyse des performances\n",
    "\n",
    "Au vu des résultats, la troisième méthode (produit de deux matrices triangulaires) est la plus rapide pour générer une matrice unimodulaire. Cependant, son aléa reste limité : par exemple, la dernière ligne de la matrice générée se termine souvent par ±1.\n",
    "\n",
    "Nous allons appliquer des transformations élémentaires à la matrice issue de la méthode 3 pour augmenter l'aléa tout en conservant l'unimodularité."
   ]
  },
  {
   "cell_type": "code",
   "execution_count": 5,
   "metadata": {},
   "outputs": [],
   "source": [
    "def KeyGen(n, l = 4, debug = False):\n",
    "    B = MatrixSpace(ZZ, n,n).random_element(x = -l, y = l + 1 , distribution = 'uniform')\n",
    "    while (B.hermite_form().column(n-1) == vector(ZZ, [0] * n)):\n",
    "        B = MatrixSpace(ZZ, n,n).random_element(x = -l, y = l + 1 , distribution = 'uniform')\n",
    "        \n",
    "    U = generate_unimodular_matrix3(n, 100) # l = 100 pour illustrer la problématique\n",
    "        \n",
    "    B_prime = B * U\n",
    "    \n",
    "    if(debug):\n",
    "        print(\"Matrice B (clé publique) :\")\n",
    "        print(B)\n",
    "        print(\"\\nMatrice U (unimodulaire) :\")\n",
    "        print(U)\n",
    "        print(\"\\nLigne problématique :\")\n",
    "        print(U[n-1])\n",
    "        print(\"\\nMatrice B' (clé privée) :\")\n",
    "        print(B_prime)\n",
    "\n",
    "    return B, B_prime"
   ]
  },
  {
   "cell_type": "code",
   "execution_count": 6,
   "metadata": {},
   "outputs": [
    {
     "name": "stdout",
     "output_type": "stream",
     "text": [
      "Matrice B (clé publique) :\n",
      "[ 3 -4 -4 -3 -4  2  1 -4  1  1]\n",
      "[-3 -3  1 -4 -4 -3  3  4  1 -1]\n",
      "[ 4  0  0  0  1  4  3 -3  0  4]\n",
      "[ 3 -1 -3  2  1  4 -2 -1 -2 -1]\n",
      "[-2  4  3  2  0 -2  3  1 -4  3]\n",
      "[-4  1  4 -3 -1 -1 -2 -4 -2  4]\n",
      "[-4  1  4  2 -3 -3  4  0 -4  3]\n",
      "[ 4  2 -1 -2  4 -1  2  3 -4  3]\n",
      "[ 0  0  2 -1  3 -4  4  2  0  0]\n",
      "[ 4  0  0  4  4 -3 -3 -3  4 -4]\n",
      "\n",
      "Matrice U (unimodulaire) :\n",
      "[  179366  -801668   487576   876344   675449   118582  -805030  -167293    36886       71]\n",
      "[-1601539   382856 -1804294   912929  1042201    92465  -821552   441633   316129      604]\n",
      "[ -292012   862729 -1470624 -1082142 -1123935  -931649   710405   -32556  -388243     -743]\n",
      "[-1083641  -624199    95272   769837  1644455   999221  -545752   266949   430857      824]\n",
      "[  604219  -992448     2997  1001546   111040  -881273  -489670 -1121595  -517613     -988]\n",
      "[  308040  -303521   715522      826   104403   248393   351130  -230153   191986      368]\n",
      "[ -133776   -55721   607522  -342838   254524   685676   535213   170979   257275      492]\n",
      "[ -486924   311461  -124552  -468288   123841   497777   241590   469217    14171       26]\n",
      "[  185874     9498    61209  -143668  -163298  -113744    81025   -78176   -97279     -186]\n",
      "[     995       54      328     -777     -877     -607      438     -416     -523       -1]\n",
      "\n",
      "Ligne problématique :\n",
      "(995, 54, 328, -777, -877, -607, 438, -416, -523, -1)\n",
      "\n",
      "Matrice B' (clé privée) :\n",
      "[ 11563218  -3444010  16862907  -1622290  -3220451   3316914   1978010   -697441   1663756      3186]\n",
      "[  2803930  10584441   1325127 -16582528 -12515559   1153238  11331035   5565512   -944469     -1821]\n",
      "[  3617267  -6514534   7012923   4883468   3618989   1147896  -1422649  -3607757   1125095      2162]\n",
      "[  3066503  -9050046   9521285   8949130   7868097   3527935  -5375911  -3008560   1737663      3333]\n",
      "[-12053049   5188059 -12390538   -733837   4064179   1847365    185746   4291264   1677300      3200]\n",
      "[   699093   9055828 -11479371  -7389842 -11985467  -9610642   4818900   -532656  -2730099     -5224]\n",
      "[ -9666725   9419239  -9415871  -9187468  -1844097   2984482   6382370   6565095   1870855      3565]\n",
      "[  -386319  -4936451   -484202   7360861   4492112   -863182  -5319525  -2482410  -1011497     -1930]\n",
      "[  -428838    986435  -3708633  -2240715  -2711039  -2761652   1717064  -1153884  -2470684     -4726]\n",
      "[   477272  -9492141  -1008572  12450244   7625788  -3801966 -10423259  -5628925  -1976800     -3770]\n"
     ]
    }
   ],
   "source": [
    "Bpr, Bpb = KeyGen(10, debug=1)"
   ]
  },
  {
   "cell_type": "markdown",
   "metadata": {},
   "source": [
    "Nous allons vérifier que les transformations élémentaires appliquées sur la matrice générée par la méthode 3 ne sont pas trop consommatrices en ressources. Ensuite, nous mesurerons les temps moyens pour deux méthodes utilisant ces transformations et comparerons leurs performances."
   ]
  },
  {
   "cell_type": "code",
   "execution_count": 7,
   "metadata": {},
   "outputs": [],
   "source": [
    "def KeyGen(n, l = 4, debug = False):\n",
    "    B = MatrixSpace(ZZ, n,n).random_element(x = -l, y = l + 1 , distribution = 'uniform')\n",
    "    while (B.hermite_form().column(n-1) == vector(ZZ, [0] * n)):\n",
    "        B = MatrixSpace(ZZ, n,n).random_element(x = -l, y = l + 1 , distribution = 'uniform')\n",
    "        \n",
    "    U = generate_unimodular_matrix1(n, l, generate_unimodular_matrix3(n), 4)\n",
    "        \n",
    "    B_prime = B * U\n",
    "    \n",
    "    if(debug):\n",
    "        print(\"Matrice B (clé publique) :\")\n",
    "        print(B)\n",
    "        print(\"\\nMatrice U (unimodulaire) :\")\n",
    "        print(U)\n",
    "        print(\"\\nLigne anciennement problématique :\")\n",
    "        print(U[n-1])\n",
    "        print(\"\\nMatrice B' (clé privée) :\")\n",
    "        print(B_prime)\n",
    "\n",
    "    return B, B_prime"
   ]
  },
  {
   "cell_type": "code",
   "execution_count": 8,
   "metadata": {},
   "outputs": [
    {
     "name": "stdout",
     "output_type": "stream",
     "text": [
      "Matrice B (clé publique) :\n",
      "[-4 -2  0  4 -3 -2  4  3]\n",
      "[ 1 -3 -3  4 -3  0 -3  2]\n",
      "[-3  3 -2 -1 -2  2  3 -4]\n",
      "[ 3  1  1 -3 -1 -3 -3  3]\n",
      "[ 4 -1  2  2 -1 -3  4  1]\n",
      "[-4 -2  3 -1  1  1  2 -3]\n",
      "[ 3  2 -4 -3  2 -3 -3  0]\n",
      "[-1  2  3 -3 -3  0  2 -4]\n",
      "\n",
      "Matrice U (unimodulaire) :\n",
      "[ 318078355068  598849049767    3704168738 -200777456828  363411517085 -198246375077   -3525601126   -2128782816]\n",
      "[   -837264860   -1573799951     -12143172     529080415    -957390111     521914984       9199293       5639956]\n",
      "[   -186322878    -341474066     -10784746     119533490    -215737513     116503239       1780134       1377208]\n",
      "[   2971513402    5445849628     172014367   -1906342673    3440632230   -1858012583     -28388344     -21964591]\n",
      "[       253858       -113419        564202       -296600        476081       -176966         16098        -10214]\n",
      "[   9646849952   18162210736     112344390   -6089286338   11021739056   -6012521842    -106926229     -64562897]\n",
      "[     -4264633       1824213      -9459265       4989027      -7984909       2981697       -267535        170505]\n",
      "[       -42353         19293        -94214         49454        -79485         29483         -2699          1709]\n",
      "\n",
      "Ligne anciennement problématique :\n",
      "(-42353, 19293, -94214, 49454, -79485, 29483, -2699, 1709)\n",
      "\n",
      "Matrice B' (clé privée) :\n",
      "[-1278064484013 -2406781927138   -14368832228   806625862736 -1460045843644   796547209827    14183178469     8545836571]\n",
      "[  333047119509   626373176534     4487506721  -210362647608   380715796391  -207602035305    -3671343870    -2238170127]\n",
      "[ -940065159729 -1769701406873   -11103821168   593423677211 -1074096989629   585914013695    10414552870     6293877804]\n",
      "[  915368800386  1723802392851    10264032976  -577711391665  1045697549964  -570497783409   -10159101822    -6120244994]\n",
      "[ 1249763161581  2352699547499    14775748720  -788924364917  1427955535515  -778940735217   -13845130467    -8367563352]\n",
      "[-1264530670985 -2380553183128   -14902484509   798236856379 -1444812649113   788142368777    14010297560     8465710339]\n",
      "[  915464038549  1723935565094    10307788782  -577781016862  1045820514116  -570559003967   -10158746808    -6121526847]\n",
      "[ -329235515056  -619354709240    -4297086701   207923916185  -376312486657   205220128871     3633932578     2210452941]\n"
     ]
    }
   ],
   "source": [
    "Bpr, Bpb = KeyGen(8, debug=1)"
   ]
  },
  {
   "cell_type": "code",
   "execution_count": 9,
   "metadata": {},
   "outputs": [],
   "source": [
    "def test_keygen_performance(n, l = 4, repetitions = 10):\n",
    "    start_time = time.time()\n",
    "    for _ in range(repetitions):\n",
    "        generate_unimodular_matrix1(n, l, generate_unimodular_matrix3(n), 4)\n",
    "    time_1 = (time.time() - start_time) / repetitions\n",
    "    \n",
    "    for _ in range(repetitions):\n",
    "        generate_unimodular_matrix2(n, l, generate_unimodular_matrix3(n), 4)\n",
    "    time_2 = (time.time() - start_time) / repetitions\n",
    "\n",
    "    print(f\"Temps moyen pour generate_unimodular_matrix1 sur generate_unimodular_matrix3 : {time_1:.6f} secondes\")\n",
    "    print(f\"Temps moyen pour generate_unimodular_matrix2 sur generate_unimodular_matrix3 : {time_2:.6f} secondes\")"
   ]
  },
  {
   "cell_type": "code",
   "execution_count": 10,
   "metadata": {
    "scrolled": false
   },
   "outputs": [
    {
     "name": "stdout",
     "output_type": "stream",
     "text": [
      "Temps moyen pour generate_unimodular_matrix1 sur generate_unimodular_matrix3 : 1.087504 secondes\n",
      "Temps moyen pour generate_unimodular_matrix2 sur generate_unimodular_matrix3 : 2.298526 secondes\n"
     ]
    }
   ],
   "source": [
    "test_keygen_performance(n=200, repetitions=20)"
   ]
  },
  {
   "cell_type": "markdown",
   "metadata": {},
   "source": [
    "Il existe également une approche supplémentaire : générer une matrice identité, modifier les coefficients d'une ligne ou d'une colonne aléatoire, et répéter cette opération plusieurs fois pour améliorer l'aléa. En multipliant ces matrices entre elles, nous obtenons une matrice unimodulaire de meilleure qualité. Nous allons coder cette méthode et évaluer son temps d'exécution pour générer 2n matrices."
   ]
  },
  {
   "cell_type": "code",
   "execution_count": 11,
   "metadata": {},
   "outputs": [],
   "source": [
    "\"\"\"\n",
    "Génère une matrice unimodulaire aléatoire.\n",
    "\n",
    "Paramètres :\n",
    "- n (int) : Taille de la matrice carrée (n x n).\n",
    "\n",
    "Retour :\n",
    "- Matrix : Une matrice unimodulaire de dimensions n x n (déterminant égal à ±1).\n",
    "\"\"\"\n",
    "def generate_unimodular_matrix(n):\n",
    "    Ures = matrix.identity(n)\n",
    "    dist = GeneralDiscreteDistribution([1/7, 5/7, 1/7])\n",
    "    \n",
    "    for i in range(2 * n):\n",
    "        U = matrix.identity(n)\n",
    "        ind = randint(0,n-1)\n",
    "        \n",
    "        if randint(0,1): # Modifie une ligne ou une colonne avec 50% de chances\n",
    "            U[ind] = [dist.get_random_element() - 1 for _ in range(n)]\n",
    "            U[ind, ind] = 1\n",
    "        else:\n",
    "            for i in range(n):\n",
    "                U[i, ind] = dist.get_random_element() - 1\n",
    "            U[ind, ind] = 1\n",
    "        Ures *= U\n",
    "    return Ures"
   ]
  },
  {
   "cell_type": "code",
   "execution_count": 12,
   "metadata": {},
   "outputs": [
    {
     "name": "stdout",
     "output_type": "stream",
     "text": [
      "Temps total pour générer et multiplier 2*n matrices unimodulaires : 3.245453 secondes\n"
     ]
    }
   ],
   "source": [
    "def generate_and_multiply(n, repetitions=100):\n",
    "    total_time = 0\n",
    "\n",
    "    for _ in range(repetitions):\n",
    "        start_time = time.time()\n",
    "        U = generate_unimodular_matrix(n)\n",
    "        total_time += time.time() - start_time\n",
    "\n",
    "    time1 = total_time / repetitions\n",
    "\n",
    "    print(f\"Temps total pour générer et multiplier 2*n matrices unimodulaires : {time1:.6f} secondes\")\n",
    "    #print(\"\\nMatrice U (unimodulaire) :\")\n",
    "    #print(U)\n",
    "    \n",
    "generate_and_multiply(n=200, repetitions=10)"
   ]
  },
  {
   "cell_type": "markdown",
   "metadata": {},
   "source": [
    "Avec un temps d'environ 1 secondes pour une taille de 200, cette méthode est significativement plus lente que les autres approches testées. Bien qu'elle soit fonctionnelle, elle n'est pas optimale pour une implémentation pratique ou à grande échelle."
   ]
  },
  {
   "cell_type": "markdown",
   "metadata": {},
   "source": [
    "## Comparaison des générations de matrice identité"
   ]
  },
  {
   "cell_type": "code",
   "execution_count": 13,
   "metadata": {},
   "outputs": [
    {
     "name": "stdout",
     "output_type": "stream",
     "text": [
      "Temps moyen pour identity_matrix : 0.020641 secondes\n",
      "Temps moyen pour matrix.identity : 0.006386 secondes\n"
     ]
    }
   ],
   "source": [
    "def test_identity_performance(n, repetitions=400):\n",
    "    T = matrix.identity(n)\n",
    "    start_time = time.time()\n",
    "    for _ in range(repetitions):\n",
    "        T *= identity_matrix(ZZ, n,n)\n",
    "    time_1 = (time.time() - start_time) / repetitions\n",
    "\n",
    "    start_time = time.time()\n",
    "    for _ in range(repetitions):\n",
    "        T *= matrix.identity(n)\n",
    "    time_2 = (time.time() - start_time) / repetitions\n",
    "    \n",
    "\n",
    "    print(f\"Temps moyen pour identity_matrix : {time_1:.6f} secondes\")\n",
    "    print(f\"Temps moyen pour matrix.identity : {time_2:.6f} secondes\")\n",
    "test_identity_performance(200)"
   ]
  },
  {
   "cell_type": "markdown",
   "metadata": {},
   "source": [
    "On utilisera donc dans le reste du TP matrix.identity(n). Ce résultat est d'autant plus significatif que l'on peut trouver des résultats pouvant aller jusqu'à un temps 30 fois plus long dans certains cas."
   ]
  },
  {
   "cell_type": "markdown",
   "metadata": {},
   "source": [
    "## Tests d'inversion\n",
    "Voici un test comparant deux méthodes pour vérifier l'inversibilité d'une matrice unimodulaire : la méthode is_invertible(), qui utilise la fonction intégrée de SageMath, et la méthode basée sur le calcul explicite du déterminant, abs(U.determinant()) != 1. Les deux approches présentent des temps d'exécution similaires, bien que is_invertible() soit légèrement plus lente. Cependant, les deux méthodes restent suffisamment rapides pour une utilisation dans des implémentations réelles."
   ]
  },
  {
   "cell_type": "code",
   "execution_count": 14,
   "metadata": {},
   "outputs": [
    {
     "name": "stdout",
     "output_type": "stream",
     "text": [
      "Temps moyen pour .is_invertible(): 0.000001 secondes\n",
      "Temps moyen pour abs(U.determinant()) != 1: 0.000000 secondes\n"
     ]
    }
   ],
   "source": [
    "import time\n",
    "\n",
    "def test_invertibility_check(n, repetitions=10):\n",
    "    # Génération d'une grande matice unimodulaire\n",
    "    U = generate_unimodular_matrix1(n,4)\n",
    "\n",
    "    # Test avec is_invertible()\n",
    "    start_time = time.time()\n",
    "    for _ in range(repetitions):\n",
    "        U.is_invertible()\n",
    "    time_invertible = (time.time() - start_time) / repetitions\n",
    "\n",
    "    # Test avec abs(U.determinant()) != 1\n",
    "    start_time = time.time()\n",
    "    for _ in range(repetitions):\n",
    "        abs(U.determinant()) != 1\n",
    "    time_determinant = (time.time() - start_time) / repetitions\n",
    "\n",
    "    print(f\"Temps moyen pour .is_invertible(): {time_invertible:.6f} secondes\")\n",
    "    print(f\"Temps moyen pour abs(U.determinant()) != 1: {time_determinant:.6f} secondes\")\n",
    "\n",
    "test_invertibility_check(n=200, repetitions=100)"
   ]
  },
  {
   "cell_type": "markdown",
   "metadata": {},
   "source": [
    "# Comparaison des méthodes de génération exhaustive de vecteurs d'erreurs"
   ]
  },
  {
   "cell_type": "code",
   "execution_count": 15,
   "metadata": {
    "scrolled": true
   },
   "outputs": [
    {
     "name": "stdout",
     "output_type": "stream",
     "text": [
      "Test pour dim=6, r=3, répétitions=10\n",
      "\n",
      "generate_vectors :\n",
      "- Temps moyen (génération complète) : 0.889914 secondes\n",
      "- Temps moyen (premier vecteur)     : 0.889914 secondes\n",
      "\n",
      "generate_vectors_iterative :\n",
      "- Temps moyen (génération complète) : 0.786026 secondes\n",
      "- Temps moyen (premier vecteur)     : 0.000156 secondes\n"
     ]
    }
   ],
   "source": [
    "import time\n",
    "from itertools import product\n",
    "\n",
    "def test_vector_generation_performance(dim, r, repetitions=10):\n",
    "    print(f\"Test pour dim={dim}, r={r}, répétitions={repetitions}\\n\")\n",
    "\n",
    "    # Temps pour la méthode generate_vectors (génération complète)\n",
    "    full_generation_times = []\n",
    "    for _ in range(repetitions):\n",
    "        start_time = time.time()\n",
    "        vectors = generate_vectors(dim, r)\n",
    "        full_generation_times.append(time.time() - start_time)\n",
    "\n",
    "    # Temps pour la méthode generate_vectors_iterative (génération itérative)\n",
    "    iterative_full_generation_times = []\n",
    "    iterative_first_generation_times = []\n",
    "    for _ in range(repetitions):\n",
    "        # Temps pour obtenir le premier vecteur\n",
    "        start_time = time.time()\n",
    "        gen = generate_vectors_iterative(dim, r)\n",
    "        _ = next(gen, None)\n",
    "        iterative_first_generation_times.append(time.time() - start_time)\n",
    "\n",
    "        # Temps total pour parcourir tous les vecteurs\n",
    "        start_time = time.time()\n",
    "        gen = generate_vectors_iterative(dim, r)\n",
    "        for _ in gen:\n",
    "            pass\n",
    "        iterative_full_generation_times.append(time.time() - start_time)\n",
    "\n",
    "    avg_full_generation_time = sum(full_generation_times) / repetitions\n",
    "    avg_iterative_full_time = sum(iterative_full_generation_times) / repetitions\n",
    "    avg_iterative_first_time = sum(iterative_first_generation_times) / repetitions\n",
    "    \n",
    "    print(\"generate_vectors :\")\n",
    "    print(f\"- Temps moyen (génération complète) : {avg_full_generation_time:.6f} secondes\")\n",
    "    print(f\"- Temps moyen (premier vecteur)     : {avg_full_generation_time:.6f} secondes\\n\")\n",
    "    \n",
    "    print(\"generate_vectors_iterative :\")\n",
    "    print(f\"- Temps moyen (génération complète) : {avg_iterative_full_time:.6f} secondes\")\n",
    "    print(f\"- Temps moyen (premier vecteur)     : {avg_iterative_first_time:.6f} secondes\")\n",
    "\n",
    "# Fonctions à comparer\n",
    "def generate_vectors(dim, r):\n",
    "    all_vectors = [vector(v) for v in product([0, -1, 1], repeat=dim)]\n",
    "    valid_vectors = [v for v in all_vectors if v.norm() < r]\n",
    "    return valid_vectors\n",
    "\n",
    "def generate_vectors_iterative(dim, r):\n",
    "    for v in product([0, -1, 1], repeat=dim):\n",
    "        v = vector(v)\n",
    "        if v.norm() < r:\n",
    "            yield v\n",
    "\n",
    "# Test des performances\n",
    "test_vector_generation_performance(dim=6, r=3, repetitions=10)"
   ]
  },
  {
   "cell_type": "markdown",
   "metadata": {},
   "source": [
    "Bien que la méthode itérative soit légèrement plus lente pour la génération complète des vecteurs, elle offre un avantage clé dans les attaques par force brute : un accès quasi-instantané au premier résultat (0,000048 s contre 0,167953 s). Cela permet de tester rapidement des solutions sans attendre la génération complète, optimisant ainsi le temps de recherche. De plus, elle réduit la consommation mémoire en générant les vecteurs au fur et à mesure, ce qui est essentiel pour traiter de grands espaces de solutions."
   ]
  },
  {
   "cell_type": "markdown",
   "metadata": {},
   "source": [
    "### Comparaison des fonctions d'arrondi"
   ]
  },
  {
   "cell_type": "code",
   "execution_count": 16,
   "metadata": {},
   "outputs": [
    {
     "name": "stdout",
     "output_type": "stream",
     "text": [
      "(-3, -2, -1, 1, 2, 3, 4)\n",
      "(-2, -1, 0, 1, 2, 3, 4)\n"
     ]
    }
   ],
   "source": [
    "test = [-2.5,-1.5,-0.5,0.5,1.5,2.5,3.5]\n",
    "print(vector([round(i) for i in test]))\n",
    "print(vector(test).apply_map(lambda x: math.ceil(x) if abs(x % 1) == 0.5 else round(x)))"
   ]
  }
 ],
 "metadata": {
  "kernelspec": {
   "display_name": "SageMath 9.3",
   "language": "sage",
   "name": "sagemath"
  },
  "language_info": {
   "codemirror_mode": {
    "name": "ipython",
    "version": 3
   },
   "file_extension": ".py",
   "mimetype": "text/x-python",
   "name": "python",
   "nbconvert_exporter": "python",
   "pygments_lexer": "ipython3",
   "version": "3.7.10"
  }
 },
 "nbformat": 4,
 "nbformat_minor": 5
}
