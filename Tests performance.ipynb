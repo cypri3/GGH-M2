{
 "cells": [
  {
   "cell_type": "markdown",
   "id": "d24e57e7",
   "metadata": {},
   "source": [
    "### Génération de matrice aléatoires"
   ]
  },
  {
   "cell_type": "code",
   "execution_count": 1,
   "id": "2466fe4e",
   "metadata": {},
   "outputs": [],
   "source": [
    "import time\n",
    "\n",
    "# Méthode 1 : Remplir la matrice aléatoirement puis ajuster les zéros et la diagonale\n",
    "def generate_triangular_method1(n, l):\n",
    "    U1 = MatrixSpace(ZZ, n, n).random_element(x=-(l*10), y=(l*10) + 1, distribution='uniform')\n",
    "    U2 = MatrixSpace(ZZ, n, n).random_element(x=-(l*10), y=(l*10) + 1, distribution='uniform')\n",
    "    \n",
    "    for i in range(n):\n",
    "        U1[i, i], U2[i, i] = choice([-1, 1]), choice([-1, 1])\n",
    "        for j in range(i):\n",
    "            U1[i, j], U2[i, j] = 0, 0\n",
    "    return U1, U2\n",
    "\n",
    "# Méthode 2 : Générer directement des valeurs au bon endroit pour une matrice triangulaire\n",
    "def generate_triangular_method2(n, l):\n",
    "    U1 = MatrixSpace(ZZ, n, n)(0)\n",
    "    U2 = MatrixSpace(ZZ, n, n)(0)\n",
    "    \n",
    "    for i in range(n):\n",
    "        U1[i, i], U2[i, i] = choice([-1, 1]), choice([-1, 1])\n",
    "        for j in range(i + 1, n):\n",
    "            U1[j, i], U2[j, i] = randint(-(l*10), (l*10)), randint(-(l*10), (l*10))\n",
    "    return U1, U2\n",
    "\n",
    "def compare_triangular_generation(n, l, repetitions=100):\n",
    "    \n",
    "    start_time = time.time()\n",
    "    for _ in range(repetitions):\n",
    "        generate_triangular_method1(n, l)\n",
    "    time_method1 = (time.time() - start_time) / repetitions\n",
    "\n",
    "    start_time = time.time()\n",
    "    for _ in range(repetitions):\n",
    "        generate_triangular_method2(n, l)\n",
    "    time_method2 = (time.time() - start_time) / repetitions\n",
    "\n",
    "    print(f\"Temps moyen pour la Méthode 1 : {time_method1:.6f} secondes\")\n",
    "    print(f\"Temps moyen pour la Méthode 2 : {time_method2:.6f} secondes\")"
   ]
  },
  {
   "cell_type": "code",
   "execution_count": 2,
   "id": "241d2be5",
   "metadata": {},
   "outputs": [
    {
     "name": "stdout",
     "output_type": "stream",
     "text": [
      "Temps moyen pour la Méthode 1 : 0.006501 secondes\n",
      "Temps moyen pour la Méthode 2 : 0.029518 secondes\n"
     ]
    }
   ],
   "source": [
    "compare_triangular_generation(n=200, l=4, repetitions=100)"
   ]
  },
  {
   "cell_type": "markdown",
   "id": "c2af13f1",
   "metadata": {},
   "source": [
    "Intuitivement, on pourrait penser que le fait de générer beacoup plus de nombre aléatoire par la première méthode prendrait plus de temps, mais du fait que le python est un langage interprété et non compilé, le fait de pouvoir préduir les calculs suivant pour le processeur par l'utilisation d'une méthode compilée permet de gagner beacoup de temps.\n",
    "#### On utilisera donc la première méthode dans notre programme"
   ]
  },
  {
   "cell_type": "markdown",
   "id": "7b563cfa",
   "metadata": {},
   "source": [
    "### Génération de matrice unimodulaire"
   ]
  },
  {
   "cell_type": "markdown",
   "id": "71a8c52c",
   "metadata": {},
   "source": [
    "Nous allons explorer plusieurs méthodes pour obtenir des matrices unimodulaires. La première étant de partir d'une matrice identiée et d'appliquer des opération élémentaires de sorte à conserver un déterminant de + - 1.\n",
    "La méthode suivante conciste à prendre deux matrice triangulaires aléatoire de determinant 1 et de faire leur produit.\n",
    "La dernière est de faire une combinaison des deux méthodes."
   ]
  },
  {
   "cell_type": "code",
   "execution_count": 3,
   "id": "b5e7d65c",
   "metadata": {},
   "outputs": [],
   "source": [
    "import time\n",
    "\n",
    "\n",
    "def generate_unimodular_matrix1(n, l = 4, U = None, nb_passages = 10):\n",
    "    \n",
    "    if U is None:\n",
    "        U = [[1 if i == j else 0 for j in range(n)] for i in range(n)]\n",
    "    else :\n",
    "        if not (U.is_invertible()):\n",
    "            raise ValueError(\"Erreur : la matrice générée n'est pas unimodulaire !\")\n",
    "        U = [[int(U[i, j]) for j in range(n)] for i in range(n)]\n",
    "    \n",
    "    for _ in range(n * nb_passages): \n",
    "        i, j = randint(0, n - 1), randint(0, n - 1)\n",
    "        \n",
    "        if i != j:\n",
    "            coef = randint(-(l*10), l*10 + 1)\n",
    "            for k in range(n):\n",
    "                U[j][k] += coef * U[i][k]\n",
    "        \n",
    "            if randint(0, 1):\n",
    "                U[i], U[j] = U[j], U[i]\n",
    "        \n",
    "        if randint(0, 1):\n",
    "            for k in range(n):\n",
    "                U[i][k] *= -1\n",
    "\n",
    "    U = Matrix(ZZ, U)\n",
    "\n",
    "    if not (U.is_invertible()):\n",
    "        raise ValueError(\"Erreur : la matrice générée n'est pas unimodulaire !\")\n",
    "    return U\n",
    "\n",
    "def generate_unimodular_matrix2(n, l = 4, U = None, nb_passages = 10):\n",
    "    \n",
    "    if U is None:\n",
    "        U = identity_matrix(n)\n",
    "    else :\n",
    "        if not (U.is_invertible()):\n",
    "            raise ValueError(\"Erreur : la matrice générée n'est pas unimodulaire !\")\n",
    "    \n",
    "    for _ in range(n * nb_passages):  \n",
    "        i, j = randint(0, n - 1), randint(0, n - 1)\n",
    "        if i != j:\n",
    "            coef = randint(-(l*10), l*10 + 1)\n",
    "            for k in range(n):\n",
    "                U[j,k] += coef * U[i,k]\n",
    "        \n",
    "            if randint(0, 1):\n",
    "                U.swap_rows(i, j)\n",
    "        \n",
    "        if randint(0, 1):\n",
    "            U[i] *= -1\n",
    "\n",
    "    if abs(U.determinant()) != 1:\n",
    "        raise ValueError(\"Erreur : la matrice générée n'est pas unimodulaire !\")\n",
    "    \n",
    "    return U\n",
    "\n",
    "def generate_unimodular_matrix3(n, l = 4):\n",
    "    \n",
    "    U1 = MatrixSpace(ZZ, n,n).random_element(x = -(l*10), y = (l*10) + 1 , distribution = 'uniform')\n",
    "    U2 = MatrixSpace(ZZ, n,n).random_element(x = -(l*10), y = (l*10) + 1 , distribution = 'uniform')\n",
    "    \n",
    "    for i in range(n):\n",
    "        U1[i,i], U2[i,i] = choice([-1,1]),choice([-1,1])\n",
    "        for j in range(i):\n",
    "            U1[i,j], U2[i,j] = 0, 0\n",
    "            \n",
    "    U = U1 * U2.transpose()\n",
    "    if not (U.is_invertible()):\n",
    "        raise ValueError(\"Erreur : la matrice générée n'est pas unimodulaire !\")\n",
    "    return U\n",
    "\n",
    "def test_keygen_performance(n, repetitions=10):\n",
    "    start_time = time.time()\n",
    "    for _ in range(repetitions):\n",
    "        generate_unimodular_matrix1(n)\n",
    "    time_1 = (time.time() - start_time) / repetitions\n",
    "\n",
    "    start_time = time.time()\n",
    "    for _ in range(repetitions):\n",
    "        generate_unimodular_matrix2(n)\n",
    "    time_2 = (time.time() - start_time) / repetitions\n",
    "    \n",
    "    start_time = time.time()\n",
    "    for _ in range(repetitions):\n",
    "        generate_unimodular_matrix3(n)\n",
    "    time_3 = (time.time() - start_time) / repetitions\n",
    "\n",
    "    print(f\"Temps moyen pour generate_unimodular_matrix1 : {time_1:.6f} secondes\")\n",
    "    print(f\"Temps moyen pour generate_unimodular_matrix2 : {time_2:.6f} secondes\")\n",
    "    print(f\"Temps moyen pour generate_unimodular_matrix3 : {time_3:.6f} secondes\")"
   ]
  },
  {
   "cell_type": "code",
   "execution_count": 4,
   "id": "3ec738b0",
   "metadata": {},
   "outputs": [
    {
     "name": "stdout",
     "output_type": "stream",
     "text": [
      "Temps moyen pour generate_unimodular_matrix1 : 0.674326 secondes\n",
      "Temps moyen pour generate_unimodular_matrix2 : 0.764545 secondes\n",
      "Temps moyen pour generate_unimodular_matrix3 : 0.111157 secondes\n"
     ]
    }
   ],
   "source": [
    "test_keygen_performance(n=200, repetitions=100)"
   ]
  },
  {
   "cell_type": "markdown",
   "id": "925466d9",
   "metadata": {},
   "source": [
    "Au vu des performances pour obtenir un bon aléa, la seconde méthode qui consiste à multiplier deux matrices triangulaire semble plus intéressant. Mais l'aléa de la matrice n'est pas parfait, nous allons donc appliquer quelques transformations élémentaires à la matrice générer par la méthode 2 de sorte à obtenir un aléa plus important. On remarque en effet que dans l'exemple suivant, la dernière ligne de la matrice est toujours beacoup plus \"simple\" que les autres et se termine systematiquement par un 1 ou -1."
   ]
  },
  {
   "cell_type": "code",
   "execution_count": 5,
   "id": "a36478c5",
   "metadata": {},
   "outputs": [],
   "source": [
    "def KeyGen(n, l = 4, debug = False):\n",
    "    B = MatrixSpace(ZZ, n,n).random_element(x = -l, y = l + 1 , distribution = 'uniform')\n",
    "    while (B.hermite_form().column(n-1) == vector(ZZ, [0] * n)):\n",
    "        B = MatrixSpace(ZZ, n,n).random_element(x = -l, y = l + 1 , distribution = 'uniform')\n",
    "        \n",
    "    U = generate_unimodular_matrix3(n, 100) # l = 100 pour illustrer la problématique\n",
    "        \n",
    "    B_prime = B * U\n",
    "    \n",
    "    if(debug):\n",
    "        print(\"Matrice B (clé publique) :\")\n",
    "        print(B)\n",
    "        print(\"\\nMatrice U (unimodulaire) :\")\n",
    "        print(U)\n",
    "        print(\"\\nLigne problématique :\")\n",
    "        print(U[n-1])\n",
    "        print(\"\\nMatrice B' (clé privée) :\")\n",
    "        print(B_prime)\n",
    "\n",
    "    return B, B_prime"
   ]
  },
  {
   "cell_type": "code",
   "execution_count": 6,
   "id": "612af484",
   "metadata": {},
   "outputs": [
    {
     "name": "stdout",
     "output_type": "stream",
     "text": [
      "Matrice B (clé publique) :\n",
      "[ 0 -3 -1 -3 -2  4 -4  3 -1 -2]\n",
      "[-3 -4 -4  1  0  4  3 -1 -3  2]\n",
      "[ 3  4 -2  4  2  4  0  1 -1  1]\n",
      "[ 4 -1 -1  0 -1  1  1 -4  3  3]\n",
      "[ 0  0  4 -1 -4 -4  2  0 -4  0]\n",
      "[ 4  4  2  1  2  4 -4  2  4 -1]\n",
      "[ 3 -2 -3  2 -4 -4  3 -3 -4 -2]\n",
      "[ 1 -3  4 -1  1  1 -4  4 -3  2]\n",
      "[-3  1 -4  2  2 -4  4  0  0 -2]\n",
      "[ 1  2 -3  3  1  3  4 -2 -3 -3]\n",
      "\n",
      "Matrice U (unimodulaire) :\n",
      "[-1188993 -1107892   475246    98767   -44627   116155  -371116    28348     2441      -62]\n",
      "[ 1708211   476470 -1961109   354140   548685 -1304207  -501487   139535    11305     -300]\n",
      "[  -21958    37228 -1389710   252344   227948  -935114  -382677    86489     8333     -199]\n",
      "[ -405238   217640   396148   228770  -729436  -968155  -755921  -263044   -20611      561]\n",
      "[  333426  1416484  -272246   247004  -845403 -1475799  -587225  -374517   -29542      800]\n",
      "[  205772   282675  -532083   293887  -146504  -825599  -311912    -1257      619       -4]\n",
      "[ -388581   658279   -31760    96384  -462513 -1354057 -1567352  -420933   -34874      917]\n",
      "[ -390279   211765   226417  -171147  -313942  -514701  -511585  -166271   -12962      354]\n",
      "[  205298  -454817  -316457    67582   365381   436388   560203   258067    21317     -561]\n",
      "[     365     -811     -564      120      651      777      998      460       38       -1]\n",
      "\n",
      "Ligne problématique :\n",
      "(365, -811, -564, 120, 651, 777, 998, 460, 38, -1)\n",
      "\n",
      "Matrice B' (clé privée) :\n",
      "[ -3553266  -5363208   5624629  -2286333   1960638  10835585   8254157   1953976    160362     -4243]\n",
      "[ -4150811   5743125  10871900  -1060126  -6456541   -516812  -3222649  -3127021   -259545      6805]\n",
      "[  2583557   4007747  -4185200   3554200  -4268275 -14075061  -8870514  -1759910   -137416      3754]\n",
      "[ -4780355  -7634740   3103475    819545   1635109   5370383   1837604   1280360    101326     -2738]\n",
      "[ -3437740  -3729538  -1535364  -1460518   3222306   1979625  -2553755    237962     14619      -463]\n",
      "[  4712251  -2297967 -11684938   3757020   2148911  -7712984     52267   2210402    193233     -4904]\n",
      "[-10701623  -7589224  14019123  -2343010  -1314878   8766329  -2287746  -1273659   -116896      2884]\n",
      "[ -6078978  -1330098   1580207   -914786  -1541918   1004891   2003876     88336     17319      -294]\n",
      "[  2841256   8423520   4422217   -790241  -4644242  -4915510  -5567479  -3246211   -271704      7090]\n",
      "[   637576   6227263    413296   2389714  -5424588 -12242299 -10946624  -3246240   -267103      7052]\n"
     ]
    }
   ],
   "source": [
    "Bpr, Bpb = KeyGen(10, debug=1)"
   ]
  },
  {
   "cell_type": "markdown",
   "id": "4c8d9919",
   "metadata": {},
   "source": [
    "On applique donc quelques tranformations élémentaires et on vérifie que cete nouvelle implémentation n'est pas trop consomatrice de ressources."
   ]
  },
  {
   "cell_type": "code",
   "execution_count": 7,
   "id": "8e43c1b6",
   "metadata": {},
   "outputs": [],
   "source": [
    "def KeyGen(n, l = 4, debug = False):\n",
    "    B = MatrixSpace(ZZ, n,n).random_element(x = -l, y = l + 1 , distribution = 'uniform')\n",
    "    while (B.hermite_form().column(n-1) == vector(ZZ, [0] * n)):\n",
    "        B = MatrixSpace(ZZ, n,n).random_element(x = -l, y = l + 1 , distribution = 'uniform')\n",
    "        \n",
    "    U = generate_unimodular_matrix1(n, l, generate_unimodular_matrix3(n), 4)\n",
    "        \n",
    "    B_prime = B * U\n",
    "    \n",
    "    if(debug):\n",
    "        print(\"Matrice B (clé publique) :\")\n",
    "        print(B)\n",
    "        print(\"\\nMatrice U (unimodulaire) :\")\n",
    "        print(U)\n",
    "        print(\"\\nLigne anciennement problématique :\")\n",
    "        print(U[n-1])\n",
    "        print(\"\\nMatrice B' (clé privée) :\")\n",
    "        print(B_prime)\n",
    "\n",
    "    return B, B_prime"
   ]
  },
  {
   "cell_type": "code",
   "execution_count": 8,
   "id": "ae970093",
   "metadata": {},
   "outputs": [
    {
     "name": "stdout",
     "output_type": "stream",
     "text": [
      "Matrice B (clé publique) :\n",
      "[ 3  1 -3 -3  1 -2 -1  3]\n",
      "[-2 -4  1 -3 -3 -3 -2 -2]\n",
      "[ 1 -2 -1 -4  4  2  2  4]\n",
      "[ 0  4  3 -4 -4 -2  1  2]\n",
      "[-1 -3 -1 -3  4  3 -2  2]\n",
      "[-3 -4  1  3  3  0  2 -3]\n",
      "[ 2 -4  3  2 -3 -1 -2  2]\n",
      "[-2  4 -2 -2  1  1 -3  3]\n",
      "\n",
      "Matrice U (unimodulaire) :\n",
      "[   -359909      36073     616691    2473852   -1592109     606313     224413     -30944]\n",
      "[ -66433955   32102519   93870687  460125624 -300516812  116263354   44719436   -6132057]\n",
      "[-576359818 -359967477  730761119  789577028 -689243103  326397644   -8913820   -1775188]\n",
      "[  27003186    7801068  -39037833 -102564655   70829545  -28640795   -7285947    1081474]\n",
      "[   9488627   -4587771  -13407028  -65729619   42928771  -16607978   -6388639     876016]\n",
      "[-255558605  -55204294  232292278  333737919 -315641508  155959404    7509961   -2218407]\n",
      "[   1433338    1381447   -2341806   -1743707    1499074    -740853     144208     -10254]\n",
      "[ -26820970   -4713526   36276613  101673076  -70797099   28852451    7568155   -1116257]\n",
      "\n",
      "Ligne anciennement problématique :\n",
      "(-26820970, -4713526, 36276613, 101673076, -70797099, 28852451, 7568155, -1116257)\n",
      "\n",
      "Matrice B' (clé privée) :\n",
      "[ 2019265803  1179008757 -2346269037 -2019932461  2010268951 -1016416834    95143672    -2169434]\n",
      "[  398071460  -325812550  -253366876 -1752062845  1260253989  -528223487  -185171241    25850701]\n",
      "[   23275169   119743358  -210355186  -489333552   265608258   -84339865   -31130449     4264176]\n",
      "[-1681873918  -861982560  2383172413  4416537283 -3233641929  1370286681   207095224   -35489706]\n",
      "[  -90217889    44066731  -175390812  -919604940   460095227  -129238726   -91787839    11594718]\n",
      "[ -116739246  -461942409    82580264 -1871736488  1074264865  -364260089  -251904610    32046605]\n",
      "[-1239472972 -1135860564  1625123969   398331486  -684924340   411121690  -193238422    18682077]\n",
      "[  502864360   754593764  -674456699  1039788695  -451657170    96458430   234221615   -27739312]\n"
     ]
    }
   ],
   "source": [
    "Bpr, Bpb = KeyGen(8, debug=1)"
   ]
  },
  {
   "cell_type": "code",
   "execution_count": 9,
   "id": "c3dde401",
   "metadata": {},
   "outputs": [],
   "source": [
    "def test_keygen_performance(n, l = 4, repetitions = 10):\n",
    "    start_time = time.time()\n",
    "    for _ in range(repetitions):\n",
    "        generate_unimodular_matrix1(n, l, generate_unimodular_matrix3(n), 4)\n",
    "    time_1 = (time.time() - start_time) / repetitions\n",
    "    \n",
    "    for _ in range(repetitions):\n",
    "        generate_unimodular_matrix2(n, l, generate_unimodular_matrix3(n), 4)\n",
    "    time_2 = (time.time() - start_time) / repetitions\n",
    "\n",
    "    print(f\"Temps moyen pour generate_unimodular_matrix1 sur generate_unimodular_matrix3 : {time_1:.6f} secondes\")\n",
    "    print(f\"Temps moyen pour generate_unimodular_matrix2 sur generate_unimodular_matrix3 : {time_2:.6f} secondes\")"
   ]
  },
  {
   "cell_type": "code",
   "execution_count": 10,
   "id": "1dd21da0",
   "metadata": {
    "scrolled": true
   },
   "outputs": [
    {
     "name": "stdout",
     "output_type": "stream",
     "text": [
      "Temps moyen pour generate_unimodular_matrix1 sur generate_unimodular_matrix3 : 0.461369 secondes\n",
      "Temps moyen pour generate_unimodular_matrix2 sur generate_unimodular_matrix3 : 0.930238 secondes\n"
     ]
    }
   ],
   "source": [
    "test_keygen_performance(n=200, repetitions=100)"
   ]
  },
  {
   "cell_type": "code",
   "execution_count": 11,
   "id": "cdd42312",
   "metadata": {},
   "outputs": [
    {
     "name": "stdout",
     "output_type": "stream",
     "text": [
      "[           -2575847637          -799592976098          1343816956621         22849308930703                -887661           801202834025           -65950961366           150302021651                     12            64663659186]\n",
      "[       -19594943840558      -6121191730091795      10538126558436238     179182817865845882            -8779217278       6133439220589750       -501590546346679       1178651307228806                   1004        491944055314935]\n",
      "[     10290805296379027    3215033788542123307   -5537057080153912431  -94148185143284804464          4627320349677   -3221465891813420465     263422651160522905    -619299729655830202                 240316    -258357785560822423]\n",
      "[      -704681652045761    -220114774349437328     378828375080170267    6441328575729722908          -314736074950     220555223288819591     -18038462451653091      42370585911650386                  78480      17691482751832862]\n",
      "[       160567336093004      50155340894408561     -86322615000097791   -1467768423136773281            71738859707     -50255700710779280       4110206349535072      -9654872716545524                 -16868      -4031145896319775]\n",
      "[       540870818712978     168977831054479454    -291020238096739205   -4948301391903480102           243205711000    -169315893709658952      13845138538078269     -32549556952108376                  12631     -13578936047658981]\n",
      "[   -390922215841154025 -122131170150141305779  210339058358446672510 3576455926411523908209       -175780234143321  122375509829091941342  -10006774362363601067   23525659948224906785               -9119916    9814372642815848775]\n",
      "[      3891125793717567    1215804553536788087   -2094852418364949919  -35619382367273387175          1757551747972   -1218236643403590292      99604099156137769    -234301608429801511                 433628     -97689543234620814]\n",
      "[    -12778409291963976   -3991536032357924417    6870047922456866237  116813414491595559598         -5710639869189    3999522955210085919    -327101925088593828     768390042257703441                1271293     320810182402668584]\n",
      "[     -8429670428560305   -2633308316721139539    4533420665990944136   77083064527624437379         -3776080783555    2638577140268379075    -215782354138728811     507046692621768390                 443108     211632453590583048]\n"
     ]
    }
   ],
   "source": [
    "def generate_unimodular_matrix3(n, l = 4, nb_passages = 10):\n",
    "    U = identity_matrix(n)\n",
    "    \n",
    "    for _ in range(n * nb_passages):  \n",
    "        i, j = randint(0, n - 1), randint(0, n - 1)\n",
    "        if i != j:\n",
    "            coef = randint(-(l*10), l*10 + 1)\n",
    "            for k in range(n):\n",
    "                U[j,k] += coef * U[i,k]\n",
    "        \n",
    "            if randint(0, 1):\n",
    "                U.swap_rows(i, j)\n",
    "        \n",
    "        if randint(0, 1):\n",
    "            U[i] *= -1\n",
    "\n",
    "    if abs(U.determinant()) != 1:\n",
    "        raise ValueError(\"Erreur : la matrice générée n'est pas unimodulaire !\")\n",
    "    \n",
    "    return U\n",
    "print(generate_unimodular_matrix3(10))"
   ]
  },
  {
   "cell_type": "markdown",
   "id": "8fc539d3",
   "metadata": {},
   "source": [
    "# TODO Commenter test d'inversion"
   ]
  },
  {
   "cell_type": "code",
   "execution_count": 12,
   "id": "61476b39",
   "metadata": {},
   "outputs": [
    {
     "ename": "NameError",
     "evalue": "name 'generate_unimodular_matrix' is not defined",
     "output_type": "error",
     "traceback": [
      "\u001b[0;31m---------------------------------------------------------------------------\u001b[0m",
      "\u001b[0;31mNameError\u001b[0m                                 Traceback (most recent call last)",
      "\u001b[0;32m/tmp/ipykernel_1743/4083302523.py\u001b[0m in \u001b[0;36m<module>\u001b[0;34m\u001b[0m\n\u001b[1;32m     20\u001b[0m     \u001b[0mprint\u001b[0m\u001b[0;34m(\u001b[0m\u001b[0;34mf\"Temps moyen pour abs(U.determinant()) != 1: {time_determinant:.6f} secondes\"\u001b[0m\u001b[0;34m)\u001b[0m\u001b[0;34m\u001b[0m\u001b[0;34m\u001b[0m\u001b[0m\n\u001b[1;32m     21\u001b[0m \u001b[0;34m\u001b[0m\u001b[0m\n\u001b[0;32m---> 22\u001b[0;31m \u001b[0mtest_invertibility_check\u001b[0m\u001b[0;34m(\u001b[0m\u001b[0mn\u001b[0m\u001b[0;34m=\u001b[0m\u001b[0mInteger\u001b[0m\u001b[0;34m(\u001b[0m\u001b[0;36m200\u001b[0m\u001b[0;34m)\u001b[0m\u001b[0;34m,\u001b[0m \u001b[0mrepetitions\u001b[0m\u001b[0;34m=\u001b[0m\u001b[0mInteger\u001b[0m\u001b[0;34m(\u001b[0m\u001b[0;36m100\u001b[0m\u001b[0;34m)\u001b[0m\u001b[0;34m)\u001b[0m\u001b[0;34m\u001b[0m\u001b[0;34m\u001b[0m\u001b[0m\n\u001b[0m",
      "\u001b[0;32m/tmp/ipykernel_1743/4083302523.py\u001b[0m in \u001b[0;36mtest_invertibility_check\u001b[0;34m(n, repetitions)\u001b[0m\n\u001b[1;32m      3\u001b[0m \u001b[0;32mdef\u001b[0m \u001b[0mtest_invertibility_check\u001b[0m\u001b[0;34m(\u001b[0m\u001b[0mn\u001b[0m\u001b[0;34m,\u001b[0m \u001b[0mrepetitions\u001b[0m\u001b[0;34m=\u001b[0m\u001b[0mInteger\u001b[0m\u001b[0;34m(\u001b[0m\u001b[0;36m10\u001b[0m\u001b[0;34m)\u001b[0m\u001b[0;34m)\u001b[0m\u001b[0;34m:\u001b[0m\u001b[0;34m\u001b[0m\u001b[0;34m\u001b[0m\u001b[0m\n\u001b[1;32m      4\u001b[0m     \u001b[0;31m# Génération d'une grande matrice unimodulaire\u001b[0m\u001b[0;34m\u001b[0m\u001b[0;34m\u001b[0m\u001b[0m\n\u001b[0;32m----> 5\u001b[0;31m     \u001b[0mU\u001b[0m \u001b[0;34m=\u001b[0m \u001b[0mgenerate_unimodular_matrix\u001b[0m\u001b[0;34m(\u001b[0m\u001b[0mn\u001b[0m\u001b[0;34m,\u001b[0m\u001b[0mInteger\u001b[0m\u001b[0;34m(\u001b[0m\u001b[0;36m4\u001b[0m\u001b[0;34m)\u001b[0m\u001b[0;34m)\u001b[0m\u001b[0;34m\u001b[0m\u001b[0;34m\u001b[0m\u001b[0m\n\u001b[0m\u001b[1;32m      6\u001b[0m \u001b[0;34m\u001b[0m\u001b[0m\n\u001b[1;32m      7\u001b[0m     \u001b[0;31m# Test avec is_invertible()\u001b[0m\u001b[0;34m\u001b[0m\u001b[0;34m\u001b[0m\u001b[0m\n",
      "\u001b[0;31mNameError\u001b[0m: name 'generate_unimodular_matrix' is not defined"
     ]
    }
   ],
   "source": [
    "import time\n",
    "\n",
    "def test_invertibility_check(n, repetitions=10):\n",
    "    # Génération d'une grande matrice unimodulaire\n",
    "    U = generate_unimodular_matrix(n,4)\n",
    "\n",
    "    # Test avec is_invertible()\n",
    "    start_time = time.time()\n",
    "    for _ in range(repetitions):\n",
    "        U.is_invertible()\n",
    "    time_invertible = (time.time() - start_time) / repetitions\n",
    "\n",
    "    # Test avec abs(U.determinant()) != 1\n",
    "    start_time = time.time()\n",
    "    for _ in range(repetitions):\n",
    "        abs(U.determinant()) != 1\n",
    "    time_determinant = (time.time() - start_time) / repetitions\n",
    "\n",
    "    print(f\"Temps moyen pour .is_invertible(): {time_invertible:.6f} secondes\")\n",
    "    print(f\"Temps moyen pour abs(U.determinant()) != 1: {time_determinant:.6f} secondes\")\n",
    "\n",
    "test_invertibility_check(n=200, repetitions=100)"
   ]
  },
  {
   "cell_type": "markdown",
   "id": "c765368f",
   "metadata": {},
   "source": [
    "# Comparaison des méthodes de génération exhaustive de vecteurs d'erreurs"
   ]
  },
  {
   "cell_type": "code",
   "execution_count": null,
   "id": "9ca9ccf6",
   "metadata": {
    "scrolled": true
   },
   "outputs": [],
   "source": [
    "import time\n",
    "from itertools import product\n",
    "\n",
    "def test_vector_generation_performance(dim, r, repetitions=10):\n",
    "    print(f\"Test pour dim={dim}, r={r}, répétitions={repetitions}\\n\")\n",
    "\n",
    "    # Temps pour la méthode generate_vectors (génération complète)\n",
    "    full_generation_times = []\n",
    "    for _ in range(repetitions):\n",
    "        start_time = time.time()\n",
    "        vectors = generate_vectors(dim, r)\n",
    "        full_generation_times.append(time.time() - start_time)\n",
    "\n",
    "    # Temps pour la méthode generate_vectors_iterative (génération itérative)\n",
    "    iterative_full_generation_times = []\n",
    "    iterative_first_generation_times = []\n",
    "    for _ in range(repetitions):\n",
    "        # Temps pour obtenir le premier vecteur\n",
    "        start_time = time.time()\n",
    "        gen = generate_vectors_iterative(dim, r)\n",
    "        _ = next(gen, None)\n",
    "        iterative_first_generation_times.append(time.time() - start_time)\n",
    "\n",
    "        # Temps total pour parcourir tous les vecteurs\n",
    "        start_time = time.time()\n",
    "        gen = generate_vectors_iterative(dim, r)\n",
    "        for _ in gen:\n",
    "            pass\n",
    "        iterative_full_generation_times.append(time.time() - start_time)\n",
    "\n",
    "    avg_full_generation_time = sum(full_generation_times) / repetitions\n",
    "    avg_iterative_full_time = sum(iterative_full_generation_times) / repetitions\n",
    "    avg_iterative_first_time = sum(iterative_first_generation_times) / repetitions\n",
    "    \n",
    "    print(\"generate_vectors :\")\n",
    "    print(f\"- Temps moyen (génération complète) : {avg_full_generation_time:.6f} secondes\")\n",
    "    print(f\"- Temps moyen (premier vecteur)     : {avg_full_generation_time:.6f} secondes\\n\")\n",
    "    \n",
    "    print(\"generate_vectors_iterative :\")\n",
    "    print(f\"- Temps moyen (génération complète) : {avg_iterative_full_time:.6f} secondes\")\n",
    "    print(f\"- Temps moyen (premier vecteur)     : {avg_iterative_first_time:.6f} secondes\")\n",
    "\n",
    "# Fonctions à comparer\n",
    "def generate_vectors(dim, r):\n",
    "    all_vectors = [vector(v) for v in product([0, -1, 1], repeat=dim)]\n",
    "    valid_vectors = [v for v in all_vectors if v.norm() < r]\n",
    "    return valid_vectors\n",
    "\n",
    "def generate_vectors_iterative(dim, r):\n",
    "    for v in product([0, -1, 1], repeat=dim):\n",
    "        v = vector(v)\n",
    "        if v.norm() < r:\n",
    "            yield v\n",
    "\n",
    "# Test des performances\n",
    "test_vector_generation_performance(dim=6, r=3, repetitions=10)"
   ]
  },
  {
   "cell_type": "markdown",
   "id": "4fa8cc89",
   "metadata": {},
   "source": [
    "Bien que la méthode itérative soit légèrement plus lente pour la génération complète des vecteurs, elle offre un avantage clé dans les attaques par force brute : un accès quasi-instantané au premier résultat (0,000048 s contre 0,167953 s). Cela permet de tester rapidement des solutions sans attendre la génération complète, optimisant ainsi le temps de recherche. De plus, elle réduit la consommation mémoire en générant les vecteurs au fur et à mesure, ce qui est essentiel pour traiter de grands espaces de solutions."
   ]
  }
 ],
 "metadata": {
  "kernelspec": {
   "display_name": "SageMath 9.5",
   "language": "sage",
   "name": "sagemath"
  },
  "language_info": {
   "codemirror_mode": {
    "name": "ipython",
    "version": 3
   },
   "file_extension": ".py",
   "mimetype": "text/x-python",
   "name": "python",
   "nbconvert_exporter": "python",
   "pygments_lexer": "ipython3",
   "version": "3.10.12"
  }
 },
 "nbformat": 4,
 "nbformat_minor": 5
}
