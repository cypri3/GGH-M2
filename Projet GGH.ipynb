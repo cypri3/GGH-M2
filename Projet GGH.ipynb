{
 "cells": [
  {
   "cell_type": "markdown",
   "metadata": {},
   "source": [
    "# Projet Réseaux euclidiens en cryptographie"
   ]
  },
  {
   "cell_type": "markdown",
   "metadata": {},
   "source": [
    "## Première partie : Implémentation du système cryptographique"
   ]
  },
  {
   "cell_type": "code",
   "execution_count": 1,
   "metadata": {},
   "outputs": [],
   "source": [
    "\"\"\"\n",
    "Génère une matrice unimodulaire aléatoire.\n",
    "\n",
    "Paramètres :\n",
    "- n (int) : Taille de la matrice carrée (n x n).\n",
    "\n",
    "Retour :\n",
    "- Matrix : Une matrice unimodulaire de dimensions n x n (déterminant égal à ±1).\n",
    "\"\"\"\n",
    "def generate_unimodular_matrix(n):\n",
    "    U = Matrix(ZZ, n,n)\n",
    "    \n",
    "    while not (U.det() in [-1, 1]):\n",
    "        U = identity_matrix(ZZ, n,n)\n",
    "        ind = randint(0,n-1)\n",
    "        \n",
    "        if randint(0,1): # Modifie une ligne ou une colonne avec 50% de chances\n",
    "            U[ind] = [randint(-1,1) for i in range(n)]\n",
    "            U[ind, ind] = 1\n",
    "        else:\n",
    "            for i in range(n):\n",
    "                U[i, ind] = randint(-1,1)\n",
    "            U[ind, ind] = 1\n",
    "    return U"
   ]
  },
  {
   "cell_type": "code",
   "execution_count": 2,
   "metadata": {
    "scrolled": true
   },
   "outputs": [],
   "source": [
    "\"\"\"\n",
    "Génère une clé publique et une clé privée pour un chiffrement basé sur des matrices.\n",
    "\n",
    "Paramètres :\n",
    "- n (int) : Taille des matrices carrées (n x n).\n",
    "- l (int) : Amplitude des coefficients dans la matrice privée (valeur par défaut : 4).\n",
    "- debug (bool) : Si True, affiche les matrices générées pour le débogage.\n",
    "\n",
    "Retour :\n",
    "- Bpriv (Matrix) : Matrice privée.\n",
    "- Bpub (Matrix) : Matrice publique.\n",
    "- U (Matrix) : Matrice unimodulaire utilisée pour transformer Bpriv en Bpub.\n",
    "\"\"\"\n",
    "def KeyGen(n, l = 4, debug = False):\n",
    "    Bpriv = MatrixSpace(ZZ, n,n).random_element(x = -l, y = l + 1 , distribution = 'uniform')\n",
    "    while Bpriv.det() == 0:\n",
    "        Bpriv = MatrixSpace(ZZ, n,n).random_element(x = -l, y = l + 1 , distribution = 'uniform')\n",
    "    Bpriv = Bpriv.LLL()\n",
    "        \n",
    "    U = generate_unimodular_matrix(n)\n",
    "        \n",
    "    Bpub = U * Bpriv\n",
    "    \n",
    "    if(debug):\n",
    "        print(\"Matrice B (clé privée) :\")\n",
    "        print(Bpriv)\n",
    "        print(\"\\nMatrice U (unimodulaire) :\")\n",
    "        print(U)\n",
    "        print(\"\\nMatrice B' (clé publique) :\")\n",
    "        print(Bpub)\n",
    "\n",
    "    return Bpriv, Bpub, U"
   ]
  },
  {
   "cell_type": "code",
   "execution_count": 3,
   "metadata": {},
   "outputs": [],
   "source": [
    "\"\"\"\n",
    "Chiffre un message à l'aide de la clé publique.\n",
    "\n",
    "Paramètres :\n",
    "- Bpub (Matrix) : Clé publique utilisée pour le chiffrement.\n",
    "- m (vector) : Message à chiffrer, sous la forme d'un vecteur.\n",
    "- breakPoint (int) : Nombre maximal d'itérations pour ajuster l'erreur (valeur par défaut : 128).\n",
    "\n",
    "Retour :\n",
    "- c (vector) : Message chiffré\n",
    "\"\"\"\n",
    "def Chiffrement(Bpub, m, breakPoint = 128):\n",
    "    n = Bpub.nrows()\n",
    "    r = round(min([Bpub.column(i).norm(2) for i in range(n)]) / 6)\n",
    "    err = vector(ZZ, [randint(0, 1) for _ in range(n)])\n",
    "    boucle = 0\n",
    "    while err.norm(2) >= r:\n",
    "        boucle += 1\n",
    "        err = vector(ZZ, [randint(-1, 1) for _ in range(n)])\n",
    "        if(boucle > breakPoint):\n",
    "            err = vector(ZZ, [randint(0,1) if(i < r) else 0 for i in range(n)])\n",
    "            break\n",
    "    return m*Bpub + err\n",
    "\n",
    "\"\"\"\n",
    "Déchiffre un message à l'aide de la clé privée.\n",
    "\n",
    "Paramètres :\n",
    "- Bpriv (Matrix) : Matrice privée pour le déchiffrement.\n",
    "- U (Matrix) : Matrice unimodulaire utilisée dans la génération des clés.\n",
    "- c (vector) : Message chiffré.\n",
    "\n",
    "Retour :\n",
    "- m (vector) : Message clair, sous la forme d'un vecteur.\n",
    "\"\"\"\n",
    "def Dechiffrement(Bpriv, U, c):\n",
    "    m_prim = c*Bpriv.inverse()\n",
    "    m_sec = m_prim.apply_map(lambda x: round(x))\n",
    "    m = m_sec * U.inverse()\n",
    "\n",
    "    return m"
   ]
  },
  {
   "cell_type": "code",
   "execution_count": 4,
   "metadata": {},
   "outputs": [],
   "source": [
    "def Dechiffrement(Bpriv, U, c):\n",
    "    m_prim = c*Bpriv.inverse()\n",
    "    m_sec = m_prim.apply_map(lambda x: math.ceil(x) if x % 1 == 0.5 else round(x))\n",
    "    m = m_sec * U.inverse()\n",
    "\n",
    "    return m"
   ]
  },
  {
   "cell_type": "code",
   "execution_count": 5,
   "metadata": {},
   "outputs": [
    {
     "name": "stdout",
     "output_type": "stream",
     "text": [
      "(0, 1, 0, 0, 0, 0, 0, 0, 0, 0, 0, 0, 0, 0, 0, 0, 0, 0, 0, 0, 0, 0, 0, 0, 0, 0, 0, 0, 0, 0, 0, 0, 0, 0, 0, 0, 0, 0, 0, 0, 0, 0, 0, 0, 0, 0, 0, 0, 0, 0, 0, 0, 0, 0, 0, 0, 0, 0, 0, 0, 0, 0, 0, 0, 0, 0, 0, 0, 0, 0, 0, 0, 0, 0, 0, 0, 0, 0, 0, 0, 0, 0, 0, 0, 0, 0, 0, 0, 0, 0, 0, 0, 0, 0, 0, 0, 0, 0, 0, 0, 0, 0, 0, 0, 0, 0, 0, 0, 0, 0, 0, 0, 0, 0, 0, 0, 0, 0, 0, 0, 0, 0, 0, 0, 0, 0, 0, 0, 0, 0, 0, 0, 0, 0, 0, 0, 0, 0, 0, 0, 0, 0, 0, 0, 0, 0, 0, 0, 0, 0, 0, 0, 0, 0, 0, 0, 0, 0, 0, 0, 0, 0, 0, 0, 0, 0, 0, 0, 0, 0, 0, 0, 0, 0, 0, 0, 0, 0, 0, 0, 0, 0, 0, 0, 0, 0, 0, 0, 0, 0, 0, 0, 0, 0, 0, 0, 0, 0, 0, 0)\n",
      "Le taux de réussite dans le déchiffrement pour des matrices de tailles 200 est de 80%\n",
      "Le taux de bits incorrectement déchiffré en cas d'erreur est de 1%\n"
     ]
    }
   ],
   "source": [
    "# Test des fonctions de génération de clé, de chiffrement et déchiffrement\n",
    "n = 200\n",
    "good = 0\n",
    "nb = 5\n",
    "ERR = []\n",
    "nberr = 0\n",
    "\n",
    "for i in range(nb):\n",
    "\n",
    "    Bpriv, Bpub, U = KeyGen(n)\n",
    "\n",
    "    m = vector(ZZ, [randint(0, 1) for _ in range(n)])\n",
    "    c = Chiffrement(Bpub, m)\n",
    "\n",
    "    m2 = Dechiffrement(Bpriv, U, c)\n",
    "    if(m == m2):\n",
    "        good += 1\n",
    "    else:\n",
    "        nberr += 1\n",
    "        e = m - m2\n",
    "        print(e)\n",
    "        ERR.append(sum([0 if (e[i] == 0) else 1 for i in range(n)]))\n",
    "print(f\"Le taux de réussite dans le déchiffrement pour des matrices de tailles {n} est de {good / nb * 100}%\")\n",
    "if(good / nb * 100 < 100):\n",
    "    print(f\"Le taux de bits incorrectement déchiffré en cas d'erreur est de {round(sum(ERR) / nberr / n * 100)}%\")"
   ]
  },
  {
   "cell_type": "markdown",
   "metadata": {},
   "source": [
    "## Cryptanalyse "
   ]
  },
  {
   "cell_type": "markdown",
   "metadata": {},
   "source": [
    "### Attaque par force brute"
   ]
  },
  {
   "cell_type": "code",
   "execution_count": 6,
   "metadata": {},
   "outputs": [],
   "source": [
    "from itertools import product\n",
    "\n",
    "\"\"\"\n",
    "Génère tous les vecteurs possibles de dimension donnée avec des coefficients\n",
    "dans {0, -1, 1} et une norme inférieure à une borne.\n",
    "\n",
    "Paramètres :\n",
    "- dim (int) : Dimension des vecteurs à générer.\n",
    "- r (int) : Borne supérieure pour la norme Euclidienne.\n",
    "\n",
    "Retour :\n",
    "- (iterator) : Itérateur sur les vecteurs respectant les contraintes.\n",
    "\"\"\"\n",
    "def generate_vectors_iterative(dim, r):\n",
    "    for v in product([0, -1, 1], repeat=dim):\n",
    "        v = vector(v)\n",
    "        if v.norm() < r:\n",
    "            yield v\n",
    "\n",
    "\"\"\"\n",
    "Effectue une attaque par force brute pour déchiffrer un message.\n",
    "\n",
    "Paramètres :\n",
    "- Bpub (Matrix) : Matrice publique utilisée pour le chiffrement.\n",
    "- c (vector) : Message chiffré.\n",
    "- n (int) : Dimension du message clair et de l'erreur.\n",
    "\n",
    "Retour :\n",
    "- candidates (list) : Liste des messages candidats sous forme de vecteurs.\n",
    "\"\"\"\n",
    "def brute_force_attack(Bpub, c, n):\n",
    "    r = round(min([Bpub.column(i).norm(2) for i in range(n)]) / 3)\n",
    "    Bpub_inv = Bpub.inverse()\n",
    "    candidates = []\n",
    "    \n",
    "    c_prim = c * Bpub_inv\n",
    "    for e in generate_vectors_iterative(n, r):\n",
    "        possible_m = c_prim - Bpub_inv * e\n",
    "        possible_m = possible_m.apply_map(lambda x: round(x))\n",
    "\n",
    "        if all(x in [0, 1] for x in possible_m):\n",
    "            candidates.append(possible_m)\n",
    "\n",
    "            if possible_m == m:\n",
    "                print(\"Message trouvé:\", possible_m)\n",
    "                return candidates\n",
    "\n",
    "    print(\"Message non trouvé, augmentation de la norme maximale.\")\n",
    "    return candidates"
   ]
  },
  {
   "cell_type": "code",
   "execution_count": 7,
   "metadata": {},
   "outputs": [
    {
     "name": "stdout",
     "output_type": "stream",
     "text": [
      "Message recherché: (1, 1, 1, 0, 1, 1, 1, 1, 1, 0, 0, 1, 1, 1, 0, 0, 1, 1, 0, 1, 1, 1, 1, 1, 1, 0, 1, 0, 0, 1, 1, 0)\n",
      "Message trouvé: (1, 1, 1, 0, 1, 1, 1, 1, 1, 0, 0, 1, 1, 1, 0, 0, 1, 1, 0, 1, 1, 1, 1, 1, 1, 0, 1, 0, 0, 1, 1, 0)\n",
      "Parmi les candidats suivants : [(1, 1, 1, 0, 1, 1, 1, 1, 1, 0, 0, 1, 1, 1, 0, 0, 1, 1, 0, 1, 1, 1, 1, 1, 1, 0, 1, 0, 0, 1, 1, 0)]\n"
     ]
    }
   ],
   "source": [
    "n = 32\n",
    "Bpriv, Bpub, U = KeyGen(n)\n",
    "\n",
    "m = vector(ZZ, [randint(0, 1) for _ in range(n)])\n",
    "print(\"Message recherché:\",m)\n",
    "c = Chiffrement(Bpub, m)\n",
    "print(\"Parmi les candidats suivants :\", brute_force_attack(Bpub, c,  n))"
   ]
  },
  {
   "cell_type": "code",
   "execution_count": 9,
   "metadata": {},
   "outputs": [
    {
     "name": "stdout",
     "output_type": "stream",
     "text": [
      "Vecteur d'erreur: (20, -11, 1, 69, -28, 26, -11, -68, 12, -88, 63, -31, 47, 76, 5, 35, 64, -29, 34, 74, -102, -21, 3, 140, -49, 100, 2, -13, -44, 52, -99, -16)\n"
     ]
    },
    {
     "data": {
      "text/plain": [
       "(20, -11, 1, 69, -28, 26, -11, -68, 12, -88, 63, -31, 47, 76, 5, 35, 64, -29, 34, 74, -102, -21, 3, 140, -49, 100, 2, -13, -44, 52, -99, -16)"
      ]
     },
     "execution_count": 9,
     "metadata": {},
     "output_type": "execute_result"
    }
   ],
   "source": [
    "def nearest_plane_attack(c, Bpub, n):\n",
    "    # Appliquer la réduction LLL pour obtenir une base réduite\n",
    "    Bpub_lll = Bpub.LLL()\n",
    "    \n",
    "    # Calculer l'inverse de la base publique pour obtenir Bpub_inv\n",
    "    Bpub_inv = Bpub_lll.inverse()\n",
    "\n",
    "    # Représenter c comme une combinaison linéaire des vecteurs de la base\n",
    "    c_prim = Bpub_inv * c\n",
    "\n",
    "    # Appliquer l'algorithme Nearest-plane itératif\n",
    "    basis = Bpub_inv.transpose()\n",
    "    \n",
    "    # Coefficients de la représentation de c en fonction de la base\n",
    "    coefficients = c_prim.list()\n",
    "\n",
    "    # Initialisation de la base et du vecteur c\n",
    "    Bnew = Bpub_lll\n",
    "    c_new = c\n",
    "\n",
    "    # Iteration de l'algorithme Nearest-plane sur les coefficients\n",
    "    for i in range(n-1, -1, -1):\n",
    "        coeff = coefficients[i]\n",
    "        rounded_coeff = round(coeff)\n",
    "        c_new = c_new - rounded_coeff * Bnew[i]\n",
    "\n",
    "        # Mise à jour de la base\n",
    "        Bnew = matrix(list(Bnew)[:i])\n",
    "\n",
    "    # Calculer le vecteur d'erreur et afficher le message trouvé\n",
    "    error_vector = c_new\n",
    "    print(\"Vecteur d'erreur:\", error_vector)\n",
    "\n",
    "    return error_vector\n",
    "nearest_plane_attack(c, Bpub, n)"
   ]
  },
  {
   "cell_type": "code",
   "execution_count": null,
   "metadata": {},
   "outputs": [],
   "source": []
  }
 ],
 "metadata": {
  "kernelspec": {
   "display_name": "SageMath 9.5",
   "language": "sage",
   "name": "sagemath"
  },
  "language_info": {
   "codemirror_mode": {
    "name": "ipython",
    "version": 3
   },
   "file_extension": ".py",
   "mimetype": "text/x-python",
   "name": "python",
   "nbconvert_exporter": "python",
   "pygments_lexer": "ipython3",
   "version": "3.10.12"
  }
 },
 "nbformat": 4,
 "nbformat_minor": 4
}
